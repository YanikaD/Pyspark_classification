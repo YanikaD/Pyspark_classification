{
  "nbformat": 4,
  "nbformat_minor": 0,
  "metadata": {
    "colab": {
      "name": "Pyspark_spam_classification.ipynb",
      "provenance": [],
      "collapsed_sections": []
    },
    "kernelspec": {
      "name": "python3",
      "display_name": "Python 3"
    },
    "language_info": {
      "name": "python"
    }
  },
  "cells": [
    {
      "cell_type": "markdown",
      "source": [
        "# Pyspark Spam Classification"
      ],
      "metadata": {
        "id": "2ocwkGi_vk47"
      }
    },
    {
      "cell_type": "code",
      "execution_count": 1,
      "metadata": {
        "colab": {
          "base_uri": "https://localhost:8080/"
        },
        "id": "BGCxs4qIuuyz",
        "outputId": "22717717-5a10-43ec-95b5-2842d6e2cf79"
      },
      "outputs": [
        {
          "output_type": "stream",
          "name": "stdout",
          "text": [
            "Looking in indexes: https://pypi.org/simple, https://us-python.pkg.dev/colab-wheels/public/simple/\n",
            "Requirement already satisfied: pyspark in /usr/local/lib/python3.7/dist-packages (3.3.0)\n",
            "Requirement already satisfied: py4j==0.10.9.5 in /usr/local/lib/python3.7/dist-packages (from pyspark) (0.10.9.5)\n"
          ]
        }
      ],
      "source": [
        "!pip3 install pyspark"
      ]
    },
    {
      "cell_type": "markdown",
      "source": [
        "##Import and Connect SparkSession\n"
      ],
      "metadata": {
        "id": "JJMVKfrVvgCi"
      }
    },
    {
      "cell_type": "code",
      "source": [
        "import numpy as np \n",
        "import pandas as pd \n",
        "import os\n",
        "import pyspark\n",
        "from pyspark.sql import SparkSession\n",
        "from pyspark.ml.feature import StringIndexer\n",
        "from pyspark.sql.functions import monotonically_increasing_id \n",
        "from pyspark.sql.functions import regexp_replace\n",
        "from pyspark.ml.feature import Tokenizer\n",
        "from pyspark.ml.feature import StopWordsRemover, HashingTF, IDF\n",
        "\n",
        "spark = SparkSession.builder \\\n",
        "        .master('local[*]') \\\n",
        "        .appName('first_spark_application') \\\n",
        "        .getOrCreate()"
      ],
      "metadata": {
        "id": "-JeFmt8jvCUj"
      },
      "execution_count": 2,
      "outputs": []
    },
    {
      "cell_type": "code",
      "source": [
        "# text_message = spark.read.csv(\"../input/spam-text-message-classification/SPAM text message 20170820 - Data.csv\",header=True)\n",
        "text_message = spark.read.csv(\"SPAM text message 20170820 - Data.csv\",header=True,inferSchema=True)\n",
        "text_message.show(truncate=False)"
      ],
      "metadata": {
        "colab": {
          "base_uri": "https://localhost:8080/"
        },
        "id": "XL4pP8W5vtKH",
        "outputId": "1e02898f-3511-4744-ada3-335e2aee38e6"
      },
      "execution_count": 3,
      "outputs": [
        {
          "output_type": "stream",
          "name": "stdout",
          "text": [
            "+--------+----------------------------------------------------------------------------------------------------------------------------------------------------------------------------------------------------+\n",
            "|Category|Message                                                                                                                                                                                             |\n",
            "+--------+----------------------------------------------------------------------------------------------------------------------------------------------------------------------------------------------------+\n",
            "|ham     |Go until jurong point, crazy.. Available only in bugis n great world la e buffet... Cine there got amore wat...                                                                                     |\n",
            "|ham     |Ok lar... Joking wif u oni...                                                                                                                                                                       |\n",
            "|spam    |Free entry in 2 a wkly comp to win FA Cup final tkts 21st May 2005. Text FA to 87121 to receive entry question(std txt rate)T&C's apply 08452810075over18's                                         |\n",
            "|ham     |U dun say so early hor... U c already then say...                                                                                                                                                   |\n",
            "|ham     |Nah I don't think he goes to usf, he lives around here though                                                                                                                                       |\n",
            "|spam    |FreeMsg Hey there darling it's been 3 week's now and no word back! I'd like some fun you up for it still? Tb ok! XxX std chgs to send, £1.50 to rcv                                                 |\n",
            "|ham     |Even my brother is not like to speak with me. They treat me like aids patent.                                                                                                                       |\n",
            "|ham     |As per your request 'Melle Melle (Oru Minnaminunginte Nurungu Vettam)' has been set as your callertune for all Callers. Press *9 to copy your friends Callertune                                    |\n",
            "|spam    |WINNER!! As a valued network customer you have been selected to receivea £900 prize reward! To claim call 09061701461. Claim code KL341. Valid 12 hours only.                                       |\n",
            "|spam    |Had your mobile 11 months or more? U R entitled to Update to the latest colour mobiles with camera for Free! Call The Mobile Update Co FREE on 08002986030                                          |\n",
            "|ham     |I'm gonna be home soon and i don't want to talk about this stuff anymore tonight, k? I've cried enough today.                                                                                       |\n",
            "|spam    |SIX chances to win CASH! From 100 to 20,000 pounds txt> CSH11 and send to 87575. Cost 150p/day, 6days, 16+ TsandCs apply Reply HL 4 info                                                            |\n",
            "|spam    |URGENT! You have won a 1 week FREE membership in our £100,000 Prize Jackpot! Txt the word: CLAIM to No: 81010 T&C www.dbuk.net LCCLTD POBOX 4403LDNW1A7RW18                                         |\n",
            "|ham     |I've been searching for the right words to thank you for this breather. I promise i wont take your help for granted and will fulfil my promise. You have been wonderful and a blessing at all times.|\n",
            "|ham     |I HAVE A DATE ON SUNDAY WITH WILL!!                                                                                                                                                                 |\n",
            "|spam    |XXXMobileMovieClub: To use your credit, click the WAP link in the next txt message or click here>> http://wap. xxxmobilemovieclub.com?n=QJKGIGHJJGCBL                                               |\n",
            "|ham     |Oh k...i'm watching here:)                                                                                                                                                                          |\n",
            "|ham     |Eh u remember how 2 spell his name... Yes i did. He v naughty make until i v wet.                                                                                                                   |\n",
            "|ham     |Fine if thats the way u feel. Thats the way its gota b                                                                                                                                            |\n",
            "|spam    |England v Macedonia - dont miss the goals/team news. Txt ur national team to 87077 eg ENGLAND to 87077 Try:WALES, SCOTLAND 4txt/ú1.20 POBOXox36504W45WQ 16+                                         |\n",
            "+--------+----------------------------------------------------------------------------------------------------------------------------------------------------------------------------------------------------+\n",
            "only showing top 20 rows\n",
            "\n"
          ]
        }
      ]
    },
    {
      "cell_type": "code",
      "source": [
        "text_message.dtypes"
      ],
      "metadata": {
        "colab": {
          "base_uri": "https://localhost:8080/"
        },
        "id": "0Rzc34tmwwUQ",
        "outputId": "7409408a-8c30-4cc2-d6ab-e9045db58249"
      },
      "execution_count": 4,
      "outputs": [
        {
          "output_type": "execute_result",
          "data": {
            "text/plain": [
              "[('Category', 'string'), ('Message', 'string')]"
            ]
          },
          "metadata": {},
          "execution_count": 4
        }
      ]
    },
    {
      "cell_type": "markdown",
      "source": [
        "## Data Preparation"
      ],
      "metadata": {
        "id": "0jB_RjBhxALy"
      }
    },
    {
      "cell_type": "code",
      "source": [
        "text_message.filter('Message IS NULL').count()"
      ],
      "metadata": {
        "colab": {
          "base_uri": "https://localhost:8080/"
        },
        "id": "J_bK5iTMw9r2",
        "outputId": "60b27bbb-2cbf-4021-962f-d40991d28296"
      },
      "execution_count": 5,
      "outputs": [
        {
          "output_type": "execute_result",
          "data": {
            "text/plain": [
              "0"
            ]
          },
          "metadata": {},
          "execution_count": 5
        }
      ]
    },
    {
      "cell_type": "code",
      "source": [
        "text_message.filter('Category IS NULL').count()"
      ],
      "metadata": {
        "colab": {
          "base_uri": "https://localhost:8080/"
        },
        "id": "Fl3Ig-ldxHa4",
        "outputId": "3be1f91f-e220-4b0a-fdb5-83655bbcb9aa"
      },
      "execution_count": 6,
      "outputs": [
        {
          "output_type": "execute_result",
          "data": {
            "text/plain": [
              "0"
            ]
          },
          "metadata": {},
          "execution_count": 6
        }
      ]
    },
    {
      "cell_type": "code",
      "source": [
        "text_message.select('Category').distinct().show(truncate=False)"
      ],
      "metadata": {
        "colab": {
          "base_uri": "https://localhost:8080/"
        },
        "id": "LnUekRFi_s60",
        "outputId": "7c6dc6bc-603e-4035-92de-ca1fef4566ab"
      },
      "execution_count": 7,
      "outputs": [
        {
          "output_type": "stream",
          "name": "stdout",
          "text": [
            "+--------------------------------------------------------------------------------------------------------------------------+\n",
            "|Category                                                                                                                  |\n",
            "+--------------------------------------------------------------------------------------------------------------------------+\n",
            "|ham\\tHI BABE UAWAKE?FEELLIKW SHIT.JUSTFOUND OUT VIA ALETTER THATMUM GOTMARRIED 4thNOV.BEHIND OURBACKS  FUCKINNICE!SELFISH|\n",
            "|ham                                                                                                                       |\n",
            "|spam                                                                                                                      |\n",
            "|ham\\tYeah                                                                                                                 |\n",
            "+--------------------------------------------------------------------------------------------------------------------------+\n",
            "\n"
          ]
        }
      ]
    },
    {
      "cell_type": "code",
      "source": [
        "text_message = text_message.filter( (text_message.Category  == \"ham\") | (text_message.Category  == \"spam\") ) "
      ],
      "metadata": {
        "id": "JNsDRZK2Ay2v"
      },
      "execution_count": 8,
      "outputs": []
    },
    {
      "cell_type": "code",
      "source": [
        "# change Category to one hot label\n",
        "tag = StringIndexer(inputCol = 'Category' , outputCol = 'label' )\n",
        "tag = tag.fit(text_message)\n",
        "msg_one_hot = tag.transform(text_message)"
      ],
      "metadata": {
        "id": "SWdxKgZS7uC7"
      },
      "execution_count": 9,
      "outputs": []
    },
    {
      "cell_type": "code",
      "source": [
        "# delete category column and add index\n",
        "msg_one_hot = msg_one_hot.drop('Category')\n",
        "msg_one_hot = msg_one_hot.select(\"*\").withColumn(\"id\", monotonically_increasing_id())\n",
        "msg_one_hot.show()"
      ],
      "metadata": {
        "colab": {
          "base_uri": "https://localhost:8080/"
        },
        "id": "o1qVVmGg8PoQ",
        "outputId": "0ec32312-8b1a-4721-9547-f0490d1c841b"
      },
      "execution_count": 10,
      "outputs": [
        {
          "output_type": "stream",
          "name": "stdout",
          "text": [
            "+--------------------+-----+---+\n",
            "|             Message|label| id|\n",
            "+--------------------+-----+---+\n",
            "|Go until jurong p...|  0.0|  0|\n",
            "|Ok lar... Joking ...|  0.0|  1|\n",
            "|Free entry in 2 a...|  1.0|  2|\n",
            "|U dun say so earl...|  0.0|  3|\n",
            "|Nah I don't think...|  0.0|  4|\n",
            "|FreeMsg Hey there...|  1.0|  5|\n",
            "|Even my brother i...|  0.0|  6|\n",
            "|As per your reque...|  0.0|  7|\n",
            "|WINNER!! As a val...|  1.0|  8|\n",
            "|Had your mobile 1...|  1.0|  9|\n",
            "|I'm gonna be home...|  0.0| 10|\n",
            "|SIX chances to wi...|  1.0| 11|\n",
            "|URGENT! You have ...|  1.0| 12|\n",
            "|I've been searchi...|  0.0| 13|\n",
            "|I HAVE A DATE ON ...|  0.0| 14|\n",
            "|XXXMobileMovieClu...|  1.0| 15|\n",
            "|Oh k...i'm watchi...|  0.0| 16|\n",
            "|Eh u remember how...|  0.0| 17|\n",
            "|Fine if thats th...|  0.0| 18|\n",
            "|England v Macedon...|  1.0| 19|\n",
            "+--------------------+-----+---+\n",
            "only showing top 20 rows\n",
            "\n"
          ]
        }
      ]
    },
    {
      "cell_type": "code",
      "source": [
        "#Remove punctuation and numbers\n",
        "wrangled = msg_one_hot.withColumn('message', regexp_replace(msg_one_hot.Message, '[_():;,.!?\\\\-\\\\d]', ' '))\n",
        "# wrangled = wrangled.drop('Message')\n",
        "wrangled = wrangled.withColumn('message', regexp_replace(wrangled.message, ' +', ' '))\n",
        "wrangled.show(4,truncate=False)"
      ],
      "metadata": {
        "colab": {
          "base_uri": "https://localhost:8080/"
        },
        "id": "gc4XT_IjxosN",
        "outputId": "64669432-2885-4e26-9c0f-5bf02dfecd7b"
      },
      "execution_count": 11,
      "outputs": [
        {
          "output_type": "stream",
          "name": "stdout",
          "text": [
            "+-------------------------------------------------------------------------------------------------------------------------------+-----+---+\n",
            "|message                                                                                                                        |label|id |\n",
            "+-------------------------------------------------------------------------------------------------------------------------------+-----+---+\n",
            "|Go until jurong point crazy Available only in bugis n great world la e buffet Cine there got amore wat                         |0.0  |0  |\n",
            "|Ok lar Joking wif u oni                                                                                                        |0.0  |1  |\n",
            "|Free entry in a wkly comp to win FA Cup final tkts st May Text FA to to receive entry question std txt rate T&C's apply over 's|1.0  |2  |\n",
            "|U dun say so early hor U c already then say                                                                                    |0.0  |3  |\n",
            "+-------------------------------------------------------------------------------------------------------------------------------+-----+---+\n",
            "only showing top 4 rows\n",
            "\n"
          ]
        }
      ]
    },
    {
      "cell_type": "code",
      "source": [
        "# Tokenize Message\n",
        "wrangled = Tokenizer(inputCol='message', outputCol='words').transform(wrangled)\n",
        "wrangled.show(4, truncate=False)"
      ],
      "metadata": {
        "colab": {
          "base_uri": "https://localhost:8080/"
        },
        "id": "PVWFx3nayan6",
        "outputId": "823f04bd-f0e6-4131-fd6e-e7266cf1463c"
      },
      "execution_count": 12,
      "outputs": [
        {
          "output_type": "stream",
          "name": "stdout",
          "text": [
            "+-------------------------------------------------------------------------------------------------------------------------------+-----+---+------------------------------------------------------------------------------------------------------------------------------------------------------------+\n",
            "|message                                                                                                                        |label|id |words                                                                                                                                                       |\n",
            "+-------------------------------------------------------------------------------------------------------------------------------+-----+---+------------------------------------------------------------------------------------------------------------------------------------------------------------+\n",
            "|Go until jurong point crazy Available only in bugis n great world la e buffet Cine there got amore wat                         |0.0  |0  |[go, until, jurong, point, crazy, available, only, in, bugis, n, great, world, la, e, buffet, cine, there, got, amore, wat]                                 |\n",
            "|Ok lar Joking wif u oni                                                                                                        |0.0  |1  |[ok, lar, joking, wif, u, oni]                                                                                                                              |\n",
            "|Free entry in a wkly comp to win FA Cup final tkts st May Text FA to to receive entry question std txt rate T&C's apply over 's|1.0  |2  |[free, entry, in, a, wkly, comp, to, win, fa, cup, final, tkts, st, may, text, fa, to, to, receive, entry, question, std, txt, rate, t&c's, apply, over, 's]|\n",
            "|U dun say so early hor U c already then say                                                                                    |0.0  |3  |[u, dun, say, so, early, hor, u, c, already, then, say]                                                                                                     |\n",
            "+-------------------------------------------------------------------------------------------------------------------------------+-----+---+------------------------------------------------------------------------------------------------------------------------------------------------------------+\n",
            "only showing top 4 rows\n",
            "\n"
          ]
        }
      ]
    },
    {
      "cell_type": "code",
      "source": [
        "# Remove stop words.\n",
        "# print(StopWordsRemover().getStopWords())\n",
        "wrangled = StopWordsRemover(inputCol=\"words\", outputCol=\"terms\").transform(wrangled)\n",
        "wrangled.select(\"words\",\"terms\").show(4, truncate=False)"
      ],
      "metadata": {
        "colab": {
          "base_uri": "https://localhost:8080/"
        },
        "id": "3YBPwle0yuoF",
        "outputId": "74db7dae-1ff6-471c-ec7b-b204f6303677"
      },
      "execution_count": 13,
      "outputs": [
        {
          "output_type": "stream",
          "name": "stdout",
          "text": [
            "+------------------------------------------------------------------------------------------------------------------------------------------------------------+-----------------------------------------------------------------------------------------------------------------------------------+\n",
            "|words                                                                                                                                                       |terms                                                                                                                              |\n",
            "+------------------------------------------------------------------------------------------------------------------------------------------------------------+-----------------------------------------------------------------------------------------------------------------------------------+\n",
            "|[go, until, jurong, point, crazy, available, only, in, bugis, n, great, world, la, e, buffet, cine, there, got, amore, wat]                                 |[go, jurong, point, crazy, available, bugis, n, great, world, la, e, buffet, cine, got, amore, wat]                                |\n",
            "|[ok, lar, joking, wif, u, oni]                                                                                                                              |[ok, lar, joking, wif, u, oni]                                                                                                     |\n",
            "|[free, entry, in, a, wkly, comp, to, win, fa, cup, final, tkts, st, may, text, fa, to, to, receive, entry, question, std, txt, rate, t&c's, apply, over, 's]|[free, entry, wkly, comp, win, fa, cup, final, tkts, st, may, text, fa, receive, entry, question, std, txt, rate, t&c's, apply, 's]|\n",
            "|[u, dun, say, so, early, hor, u, c, already, then, say]                                                                                                     |[u, dun, say, early, hor, u, c, already, say]                                                                                      |\n",
            "+------------------------------------------------------------------------------------------------------------------------------------------------------------+-----------------------------------------------------------------------------------------------------------------------------------+\n",
            "only showing top 4 rows\n",
            "\n"
          ]
        }
      ]
    },
    {
      "cell_type": "code",
      "source": [
        "# Apply the hashing trick\n",
        "wrangled = HashingTF(inputCol=\"terms\", outputCol=\"hash\", numFeatures=1024).transform(wrangled)\n",
        "wrangled.select(\"words\",\"hash\").show(4, truncate=False)"
      ],
      "metadata": {
        "colab": {
          "base_uri": "https://localhost:8080/"
        },
        "id": "soKPqCI0zgGt",
        "outputId": "f3077e49-f62f-4175-b77e-6b9949bafd76"
      },
      "execution_count": 14,
      "outputs": [
        {
          "output_type": "stream",
          "name": "stdout",
          "text": [
            "+------------------------------------------------------------------------------------------------------------------------------------------------------------+--------------------------------------------------------------------------------------------------------------------------------------------------------------------+\n",
            "|words                                                                                                                                                       |hash                                                                                                                                                                |\n",
            "+------------------------------------------------------------------------------------------------------------------------------------------------------------+--------------------------------------------------------------------------------------------------------------------------------------------------------------------+\n",
            "|[go, until, jurong, point, crazy, available, only, in, bugis, n, great, world, la, e, buffet, cine, there, got, amore, wat]                                 |(1024,[12,171,191,195,283,363,384,400,420,474,480,618,667,688,750,782],[1.0,1.0,1.0,1.0,1.0,1.0,1.0,1.0,1.0,1.0,1.0,1.0,1.0,1.0,1.0,1.0])                           |\n",
            "|[ok, lar, joking, wif, u, oni]                                                                                                                              |(1024,[3,493,565,583,653,726],[1.0,1.0,1.0,1.0,1.0,1.0])                                                                                                            |\n",
            "|[free, entry, in, a, wkly, comp, to, win, fa, cup, final, tkts, st, may, text, fa, to, to, receive, entry, question, std, txt, rate, t&c's, apply, over, 's]|(1024,[16,24,35,56,62,77,131,193,213,217,314,332,429,478,501,587,625,694,880,985],[1.0,1.0,1.0,1.0,1.0,1.0,1.0,1.0,1.0,1.0,2.0,1.0,1.0,1.0,2.0,1.0,1.0,1.0,1.0,1.0])|\n",
            "|[u, dun, say, so, early, hor, u, c, already, then, say]                                                                                                     |(1024,[44,168,210,214,245,258,583],[1.0,1.0,1.0,2.0,1.0,1.0,2.0])                                                                                                   |\n",
            "+------------------------------------------------------------------------------------------------------------------------------------------------------------+--------------------------------------------------------------------------------------------------------------------------------------------------------------------+\n",
            "only showing top 4 rows\n",
            "\n"
          ]
        }
      ]
    },
    {
      "cell_type": "code",
      "source": [
        "# Convert hashed symbols to TF-IDF\n",
        "tf_idf = IDF(inputCol=\"hash\", outputCol=\"features\").fit(wrangled).transform(wrangled)\n",
        "tf_idf.select(\"hash\",\"features\").show(4, truncate=False)"
      ],
      "metadata": {
        "colab": {
          "base_uri": "https://localhost:8080/"
        },
        "id": "YGGE7fWOzwvj",
        "outputId": "d9215e11-cb83-48ca-fd6b-c6c3fb508298"
      },
      "execution_count": 15,
      "outputs": [
        {
          "output_type": "stream",
          "name": "stdout",
          "text": [
            "+--------------------------------------------------------------------------------------------------------------------------------------------------------------------+------------------------------------------------------------------------------------------------------------------------------------------------------------------------------------------------------------------------------------------------------------------------------------------------------------------------------------------------------------------------------------------------------------------------------------------------------------+\n",
            "|hash                                                                                                                                                                |features                                                                                                                                                                                                                                                                                                                                                                                                                                                    |\n",
            "+--------------------------------------------------------------------------------------------------------------------------------------------------------------------+------------------------------------------------------------------------------------------------------------------------------------------------------------------------------------------------------------------------------------------------------------------------------------------------------------------------------------------------------------------------------------------------------------------------------------------------------------+\n",
            "|(1024,[12,171,191,195,283,363,384,400,420,474,480,618,667,688,750,782],[1.0,1.0,1.0,1.0,1.0,1.0,1.0,1.0,1.0,1.0,1.0,1.0,1.0,1.0,1.0,1.0])                           |(1024,[12,171,191,195,283,363,384,400,420,474,480,618,667,688,750,782],[4.96212714143989,4.636704741005262,4.466805704209865,2.928595301064132,3.4552047925313847,5.79247544351332,3.608408950754612,5.15995288476981,3.588736185155907,5.258392957583062,3.648955045148962,3.0052879218523865,5.79247544351332,4.864488671875974,3.0347018070586795,3.2457914340290768])                                                                                   |\n",
            "|(1024,[3,493,565,583,653,726],[1.0,1.0,1.0,1.0,1.0,1.0])                                                                                                            |(1024,[3,493,565,583,653,726],[4.96212714143989,5.5811663498461135,2.7395847561193807,1.843496731562745,4.040721308898965,4.2562409351025146])                                                                                                                                                                                                                                                                                                              |\n",
            "|(1024,[16,24,35,56,62,77,131,193,213,217,314,332,429,478,501,587,625,694,880,985],[1.0,1.0,1.0,1.0,1.0,1.0,1.0,1.0,1.0,1.0,2.0,1.0,1.0,1.0,2.0,1.0,1.0,1.0,1.0,1.0])|(1024,[16,24,35,56,62,77,131,193,213,217,314,332,429,478,501,587,625,694,880,985],[3.332383962845044,5.070340726080123,4.8414991536512755,4.42099616817857,4.071811895968995,4.268979960879944,3.368193415541755,3.1002358484377526,5.329851921565207,2.9627283074335904,7.832317172514404,5.15995288476981,3.342485058831548,4.335229346421145,8.14362379193799,5.129181226103056,3.3892468247395873,4.42099616817857,4.797047391080441,4.171341491316029])|\n",
            "|(1024,[44,168,210,214,245,258,583],[1.0,1.0,1.0,2.0,1.0,1.0,2.0])                                                                                                   |(1024,[44,168,210,214,245,258,583],[4.618355602337066,3.9343409053403926,5.490194571640386,7.9057199062152606,3.889490339175041,4.082394005299532,3.68699346312549])                                                                                                                                                                                                                                                                                        |\n",
            "+--------------------------------------------------------------------------------------------------------------------------------------------------------------------+------------------------------------------------------------------------------------------------------------------------------------------------------------------------------------------------------------------------------------------------------------------------------------------------------------------------------------------------------------------------------------------------------------------------------------------------------------+\n",
            "only showing top 4 rows\n",
            "\n"
          ]
        }
      ]
    },
    {
      "cell_type": "markdown",
      "source": [
        "##Training Model"
      ],
      "metadata": {
        "id": "hp0l1Wsg09s4"
      }
    },
    {
      "cell_type": "code",
      "source": [
        "# Split the data into training and testing sets\n",
        "msg_train, msg_test = tf_idf.randomSplit([0.8,0.2], seed = 42)"
      ],
      "metadata": {
        "id": "frMHjHQI1MmN"
      },
      "execution_count": 16,
      "outputs": []
    },
    {
      "cell_type": "markdown",
      "source": [
        "### LogisticRegression"
      ],
      "metadata": {
        "id": "h6IZjShd1fXV"
      }
    },
    {
      "cell_type": "code",
      "source": [
        "from pyspark.ml.classification import LogisticRegression\n",
        "# Fit a Logistic Regression model to the training data\n",
        "logistic = LogisticRegression(regParam=0.2).fit(msg_train)\n",
        "\n",
        "# Make predictions on the testing data\n",
        "pred_log = logistic.transform(msg_test)\n",
        "\n",
        "# Create a confusion matrix, comparing predictions to known labels\n",
        "pred_log.groupBy('label', 'prediction').count().show()"
      ],
      "metadata": {
        "colab": {
          "base_uri": "https://localhost:8080/"
        },
        "id": "B5K-hEz51js9",
        "outputId": "30872d5d-2881-4ae1-b8b6-7ad644cdceaa"
      },
      "execution_count": 17,
      "outputs": [
        {
          "output_type": "stream",
          "name": "stdout",
          "text": [
            "+-----+----------+-----+\n",
            "|label|prediction|count|\n",
            "+-----+----------+-----+\n",
            "|  1.0|       1.0|  104|\n",
            "|  0.0|       1.0|    2|\n",
            "|  1.0|       0.0|   42|\n",
            "|  0.0|       0.0|  923|\n",
            "+-----+----------+-----+\n",
            "\n"
          ]
        }
      ]
    },
    {
      "cell_type": "code",
      "source": [
        "# Calculate the elements of the confusion matrix\n",
        "TN = pred_log.filter('prediction = 0 AND label = prediction').count()\n",
        "TP = pred_log.filter('prediction = 1 AND label = prediction').count()\n",
        "FN = pred_log.filter('prediction = 0 AND label != prediction').count()\n",
        "FP = pred_log.filter('prediction = 1 AND label != prediction').count()\n",
        "\n",
        "# Accuracy measures the proportion of correct predictions\n",
        "acc_log = (TN + TP) / (TN + TP + FN + FP)\n",
        "acc_log = float(\"{:.2f}\".format(acc_log))\n",
        "print(acc_log)"
      ],
      "metadata": {
        "colab": {
          "base_uri": "https://localhost:8080/"
        },
        "id": "328TpKiKDxsn",
        "outputId": "ce8892e4-9099-424d-b14a-d7090f9334da"
      },
      "execution_count": 18,
      "outputs": [
        {
          "output_type": "stream",
          "name": "stdout",
          "text": [
            "0.96\n"
          ]
        }
      ]
    },
    {
      "cell_type": "code",
      "source": [
        "from pyspark.ml.evaluation import MulticlassClassificationEvaluator, BinaryClassificationEvaluator\n",
        "\n",
        "# Calculate precision and recall\n",
        "precision_log = float(\"{:.2f}\".format(TP/(TP+FP)))\n",
        "recall_log = float(\"{:.2f}\".format(TP/(TP+FN)))\n",
        "F1_log = float(\"{:.2f}\".format(2*(precision_log*recall_log)/(precision_log+recall_log)))\n",
        "print('precision = {:.2f}\\nrecall    = {:.2f}\\nF1-score = {:.2f}'.format(precision_log, recall_log,F1_log))\n",
        "\n",
        "# Find weighted precision\n",
        "multi_evaluator = MulticlassClassificationEvaluator()\n",
        "weighted_precision = multi_evaluator.evaluate(pred_log, {multi_evaluator.metricName: \"weightedPrecision\"})\n",
        "print('weighted precision = {:.2f}'.format(weighted_precision))\n",
        "\n",
        "# Find AUC\n",
        "binary_evaluator = BinaryClassificationEvaluator()\n",
        "auc = binary_evaluator.evaluate(pred_log, {binary_evaluator.metricName: \"areaUnderROC\"})\n",
        "print('AUC = {:.2f}'.format(auc))"
      ],
      "metadata": {
        "colab": {
          "base_uri": "https://localhost:8080/"
        },
        "id": "VMjqDR8CDody",
        "outputId": "7daa72f6-d69f-4ed8-87ef-604c1f22759a"
      },
      "execution_count": 19,
      "outputs": [
        {
          "output_type": "stream",
          "name": "stdout",
          "text": [
            "precision = 0.98\n",
            "recall    = 0.71\n",
            "F1-score = 0.82\n",
            "weighted precision = 0.96\n",
            "AUC = 0.99\n"
          ]
        }
      ]
    },
    {
      "cell_type": "code",
      "source": [
        "from pyspark.ml.classification import DecisionTreeClassifier\n",
        "# Fit a Decision Tree model to the training data\n",
        "dtree = DecisionTreeClassifier().fit(msg_train)\n",
        "\n",
        "# Make predictions on the testing data\n",
        "pred_dtree = dtree.transform(msg_test)\n",
        "\n",
        "# Create a confusion matrix, comparing predictions to known labels\n",
        "pred_dtree.groupBy('label', 'prediction').count().show()"
      ],
      "metadata": {
        "colab": {
          "base_uri": "https://localhost:8080/"
        },
        "id": "lx1JSYfh9lrF",
        "outputId": "bd3af735-c930-48d0-eca9-7d0303f02da0"
      },
      "execution_count": 20,
      "outputs": [
        {
          "output_type": "stream",
          "name": "stdout",
          "text": [
            "+-----+----------+-----+\n",
            "|label|prediction|count|\n",
            "+-----+----------+-----+\n",
            "|  1.0|       1.0|   75|\n",
            "|  0.0|       1.0|   14|\n",
            "|  1.0|       0.0|   71|\n",
            "|  0.0|       0.0|  911|\n",
            "+-----+----------+-----+\n",
            "\n"
          ]
        }
      ]
    },
    {
      "cell_type": "code",
      "source": [
        "# Calculate the elements of the confusion matrix\n",
        "TN = pred_dtree.filter('prediction = 0 AND label = prediction').count()\n",
        "TP = pred_dtree.filter('prediction = 1 AND label = prediction').count()\n",
        "FN = pred_dtree.filter('prediction = 0 AND label != prediction').count()\n",
        "FP = pred_dtree.filter('prediction = 1 AND label != prediction').count()\n",
        "\n",
        "# Accuracy measures the proportion of correct predictions\n",
        "acc_dtree = float(\"{:.2f}\".format((TN + TP) / (TN + TP + FN + FP)))\n",
        "print(acc_dtree)"
      ],
      "metadata": {
        "colab": {
          "base_uri": "https://localhost:8080/"
        },
        "id": "U4FoOxyrDvea",
        "outputId": "c5e80d80-e3fd-4658-f07b-71e4700395d2"
      },
      "execution_count": 21,
      "outputs": [
        {
          "output_type": "stream",
          "name": "stdout",
          "text": [
            "0.92\n"
          ]
        }
      ]
    },
    {
      "cell_type": "code",
      "source": [
        "# Calculate precision and recall\n",
        "precision_dtree = float(\"{:.2f}\".format(TP/(TP+FP)))\n",
        "recall_dtree = float(\"{:.2f}\".format(TP/(TP+FN)))\n",
        "F1_dtree = float(\"{:.2f}\".format(2*(precision_dtree*recall_dtree)/(precision_dtree+recall_dtree)))\n",
        "print('precision = {:.2f}\\nrecall    = {:.2f}\\nF1-score = {:.2f}'.format(precision_dtree, recall_dtree,F1_dtree))"
      ],
      "metadata": {
        "colab": {
          "base_uri": "https://localhost:8080/"
        },
        "id": "ksdROTb1D6LK",
        "outputId": "7611d7c2-7912-42e1-8c4f-600bf5a219be"
      },
      "execution_count": 22,
      "outputs": [
        {
          "output_type": "stream",
          "name": "stdout",
          "text": [
            "precision = 0.84\n",
            "recall    = 0.51\n",
            "F1-score = 0.63\n"
          ]
        }
      ]
    },
    {
      "cell_type": "code",
      "source": [
        "eval_col = [\"Model name\",\"Accuracy\",\"Precision\",\"Recall\",\"F1-score\"]\n",
        "eval_models=[(\"Logistic Regression\",acc_log,precision_log,recall_log,F1_log),\n",
        "             (\"Decision Tree\",acc_dtree,precision_dtree,recall_dtree,F1_dtree)]\n",
        "evalDF = spark.createDataFrame(data=eval_models, schema = eval_col)\n",
        "evalDF.printSchema()\n",
        "evalDF.show(truncate=False)"
      ],
      "metadata": {
        "colab": {
          "base_uri": "https://localhost:8080/"
        },
        "id": "LK4ezsAiEEw-",
        "outputId": "3eb5a7bd-ac56-4ae2-b3f0-75f1b0fb12e5"
      },
      "execution_count": 23,
      "outputs": [
        {
          "output_type": "stream",
          "name": "stdout",
          "text": [
            "root\n",
            " |-- Model name: string (nullable = true)\n",
            " |-- Accuracy: double (nullable = true)\n",
            " |-- Precision: double (nullable = true)\n",
            " |-- Recall: double (nullable = true)\n",
            " |-- F1-score: double (nullable = true)\n",
            "\n",
            "+-------------------+--------+---------+------+--------+\n",
            "|Model name         |Accuracy|Precision|Recall|F1-score|\n",
            "+-------------------+--------+---------+------+--------+\n",
            "|Logistic Regression|0.96    |0.98     |0.71  |0.82    |\n",
            "|Decision Tree      |0.92    |0.84     |0.51  |0.63    |\n",
            "+-------------------+--------+---------+------+--------+\n",
            "\n"
          ]
        }
      ]
    }
  ]
}